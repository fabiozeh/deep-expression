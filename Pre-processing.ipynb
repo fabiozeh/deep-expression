{
 "cells": [
  {
   "cell_type": "markdown",
   "metadata": {},
   "source": [
    "This code parses through the original MusicNet dataset computing the relevant features for training an expression model on melodic Motifs.\n",
    "\n",
    "After [obtaining the raw dataset](https://homes.cs.washington.edu/~thickstn/musicnet.html), extract it or symlink according to the path given by variables `labelsdir` and `audiodir`."
   ]
  },
  {
   "cell_type": "code",
   "execution_count": 1,
   "metadata": {},
   "outputs": [
    {
     "name": "stdout",
     "output_type": "stream",
     "text": [
      "piece=2282.csv, 21 motifs\n",
      "piece=2241.csv, 53 motifs\n",
      "piece=2335.csv, 80 motifs\n",
      "piece=2334.csv, 166 motifs\n",
      "piece=2283.csv, 99 motifs\n",
      "piece=1788.csv, 180 motifs\n",
      "piece=2242.csv, 99 motifs\n",
      "piece=1824.csv, 24 motifs\n",
      "piece=2336.csv, 121 motifs\n",
      "piece=2451.csv, 71 motifs\n",
      "piece=2243.csv, 25 motifs\n",
      "piece=1789.csv, 73 motifs\n",
      "piece=2284.csv, 39 motifs\n"
     ]
    },
    {
     "name": "stderr",
     "output_type": "stream",
     "text": [
      "/Users/fabiojmortega/Dropbox/Academic/PhD/PythonModels/expression_modeling.py:305: RuntimeWarning: invalid value encountered in true_divide\n",
      "  for n in notes if n.durBeats > 0.125]  # thirty-seconds and faster disconsidered\n"
     ]
    },
    {
     "name": "stdout",
     "output_type": "stream",
     "text": [
      "piece=2131.csv, 53 motifs\n",
      "piece=1835.csv, 106 motifs\n",
      "piece=2482.csv, 221 motifs\n",
      "piece=2497.csv, 114 motifs\n"
     ]
    },
    {
     "name": "stderr",
     "output_type": "stream",
     "text": [
      "/Users/fabiojmortega/Dropbox/Academic/PhD/PythonModels/expression_modeling.py:305: RuntimeWarning: divide by zero encountered in true_divide\n",
      "  for n in notes if n.durBeats > 0.125]  # thirty-seconds and faster disconsidered\n"
     ]
    },
    {
     "name": "stdout",
     "output_type": "stream",
     "text": [
      "piece=2483.csv, 227 motifs\n",
      "piece=2285.csv, 112 motifs\n",
      "piece=2244.csv, 176 motifs\n",
      "piece=1822.csv, 152 motifs\n",
      "piece=2481.csv, 84 motifs\n",
      "piece=2330.csv, 159 motifs\n",
      "piece=2480.csv, 114 motifs\n",
      "piece=2494.csv, 126 motifs\n",
      "piece=2127.csv, 54 motifs\n",
      "piece=1918.csv, 34 motifs\n",
      "piece=2168.csv, 37 motifs\n",
      "piece=2154.csv, 191 motifs\n",
      "piece=2140.csv, 83 motifs\n",
      "piece=2626.csv, 145 motifs\n",
      "piece=2381.csv, 194 motifs\n",
      "piece=1893.csv, 20 motifs\n",
      "piece=2342.csv, 121 motifs\n",
      "piece=2431.csv, 107 motifs\n",
      "piece=2627.csv, 27 motifs\n",
      "piece=2155.csv, 74 motifs\n",
      "piece=2169.csv, 80 motifs\n",
      "piece=1931.csv, 56 motifs\n",
      "piece=1919.csv, 176 motifs\n",
      "piece=1933.csv, 82 motifs\n",
      "piece=1728.csv, 65 motifs\n",
      "piece=2180.csv, 85 motifs\n",
      "piece=2157.csv, 133 motifs\n",
      "piece=2341.csv, 80 motifs\n",
      "piece=2433.csv, 19 motifs\n",
      "piece=2432.csv, 90 motifs\n",
      "piece=2368.csv, 206 motifs\n",
      "piece=2397.csv, 172 motifs\n",
      "piece=2383.csv, 101 motifs\n",
      "piece=2156.csv, 73 motifs\n",
      "piece=1729.csv, 136 motifs\n",
      "piece=1932.csv, 40 motifs\n",
      "piece=1922.csv, 34 motifs\n",
      "piece=1739.csv, 174 motifs\n",
      "piece=2379.csv, 152 motifs\n",
      "piece=2147.csv, 204 motifs\n",
      "piece=2621.csv, 226 motifs\n",
      "piece=1923.csv, 174 motifs\n",
      "piece=2186.csv, 143 motifs\n",
      "piece=2151.csv, 75 motifs\n",
      "piece=2179.csv, 97 motifs\n",
      "piece=2384.csv, 62 motifs\n",
      "piece=2420.csv, 33 motifs\n",
      "piece=2178.csv, 175 motifs\n",
      "piece=2622.csv, 166 motifs\n",
      "piece=2150.csv, 83 motifs\n",
      "piece=2571.csv, 61 motifs\n",
      "piece=2149.csv, 81 motifs\n",
      "piece=2161.csv, 70 motifs\n",
      "piece=1859.csv, 49 motifs\n",
      "piece=2377.csv, 94 motifs\n",
      "piece=2376.csv, 250 motifs\n",
      "piece=2160.csv, 32 motifs\n",
      "piece=2148.csv, 113 motifs\n",
      "piece=2570.csv, 127 motifs\n",
      "piece=2572.csv, 71 motifs\n",
      "piece=1872.csv, 49 motifs\n",
      "piece=1873.csv, 78 motifs\n",
      "piece=2177.csv, 232 motifs\n",
      "piece=2573.csv, 117 motifs\n",
      "piece=1730.csv, 81 motifs\n",
      "piece=2167.csv, 21 motifs\n",
      "piece=2629.csv, 103 motifs\n",
      "piece=2403.csv, 230 motifs\n",
      "piece=2365.csv, 105 motifs\n",
      "piece=1876.csv, 58 motifs\n",
      "piece=2166.csv, 74 motifs\n",
      "piece=2562.csv, 139 motifs\n",
      "piece=1916.csv, 157 motifs\n",
      "piece=2560.csv, 59 motifs\n",
      "piece=1727.csv, 31 motifs\n",
      "piece=2158.csv, 34 motifs\n",
      "piece=2366.csv, 181 motifs\n",
      "piece=2398.csv, 225 motifs\n",
      "piece=2159.csv, 92 motifs\n",
      "piece=1812.csv, 74 motifs\n",
      "piece=2314.csv, 167 motifs\n",
      "piece=2466.csv, 96 motifs\n",
      "piece=2315.csv, 122 motifs\n",
      "piece=1813.csv, 149 motifs\n",
      "piece=1807.csv, 93 motifs\n",
      "piece=2659.csv, 56 motifs\n",
      "piece=2288.csv, 78 motifs\n",
      "piece=1742.csv, 99 motifs\n",
      "piece=1811.csv, 86 motifs\n",
      "piece=1805.csv, 124 motifs\n",
      "piece=2289.csv, 92 motifs\n",
      "piece=1790.csv, 106 motifs\n",
      "piece=2104.csv, 136 motifs\n",
      "piece=2138.csv, 33 motifs\n",
      "piece=1828.csv, 40 motifs\n",
      "piece=2313.csv, 137 motifs\n",
      "piece=1829.csv, 120 motifs\n",
      "piece=2105.csv, 45 motifs\n",
      "piece=2501.csv, 59 motifs\n",
      "piece=1791.csv, 128 motifs\n",
      "piece=1793.csv, 73 motifs\n",
      "piece=2463.csv, 94 motifs\n",
      "piece=2462.csv, 79 motifs\n",
      "piece=2502.csv, 99 motifs\n",
      "piece=1792.csv, 179 motifs\n"
     ]
    },
    {
     "data": {
      "text/plain": [
       "<function TextIOWrapper.close()>"
      ]
     },
     "execution_count": 1,
     "metadata": {},
     "output_type": "execute_result"
    }
   ],
   "source": [
    "import re\n",
    "import os\n",
    "\n",
    "import numpy as np\n",
    "import essentia.standard as ess\n",
    "import arff\n",
    "\n",
    "import expression_modeling as m\n",
    "\n",
    "labelsDir = './data/musicnet/train_labels'\n",
    "audioDir = './data/musicnet/train_data'\n",
    "\n",
    "# filter only pieces which inlude the violin\n",
    "dataset = [csv for csv in os.listdir(labelsDir) if re.search(r'^(.*?,){2}\\s*?41\\s*?,(.*?,){3}', open(os.path.join(labelsDir, csv), 'r').read(), re.MULTILINE)]\n",
    "#dataset = dataset[0:4]\n",
    "outfile = None\n",
    "for csv in dataset:\n",
    "\n",
    "    #  load audio\n",
    "    loader = ess.AudioLoader(filename=os.path.join(audioDir, csv.replace('.csv', '.wav')))\n",
    "    audio, srate = loader()[0:2]\n",
    "    \n",
    "    # compute loudness as a dynamics estimate\n",
    "    loudnessAlg = ess.LoudnessEBUR128(hopSize=0.1, sampleRate=srate)\n",
    "    levels = loudnessAlg(audio)[0]\n",
    "\n",
    "    # load the symbolic information from the dataset\n",
    "    notearray = np.genfromtxt(os.path.join(labelsDir, csv), delimiter=',', names=True, dtype=['i', 'i', 'i', 'i', 'f', 'f', '|U40'])\n",
    "\n",
    "    # piece key estimation (only major and minor for now)\n",
    "    isMajor, key, llhoodM, llhoodm = m.estimateKey(notearray['note'])\n",
    "    mode = m.Mode.major if isMajor else m.Mode.minor\n",
    "\n",
    "    piece = m.Piece(key=key, mode=mode, name=csv)\n",
    "    piece.parts = m.buildNoteParts(notearray, levels, srate)\n",
    "    m.computeTimingDev(piece)\n",
    "    d = m.toMotifDataset(piece, 41)\n",
    "    np.save('data/levels/'+ csv.replace('.csv', 'lvls.npy'), np.array(d.moreVals))\n",
    "    if outfile is None:\n",
    "        outfile = open('data/allviolin.arff', 'w+')\n",
    "        outfile.write(arff.dumps(d.toArffDict()))\n",
    "    else:\n",
    "        d.toCsv(outfile)\n",
    "outfile.close"
   ]
  },
  {
   "cell_type": "code",
   "execution_count": null,
   "metadata": {},
   "outputs": [],
   "source": [
    "len(dataset)"
   ]
  },
  {
   "cell_type": "code",
   "execution_count": null,
   "metadata": {},
   "outputs": [],
   "source": []
  }
 ],
 "metadata": {
  "kernelspec": {
   "display_name": "Python 3",
   "language": "python",
   "name": "python3"
  },
  "language_info": {
   "codemirror_mode": {
    "name": "ipython",
    "version": 3
   },
   "file_extension": ".py",
   "mimetype": "text/x-python",
   "name": "python",
   "nbconvert_exporter": "python",
   "pygments_lexer": "ipython3",
   "version": "3.7.2"
  }
 },
 "nbformat": 4,
 "nbformat_minor": 2
}
