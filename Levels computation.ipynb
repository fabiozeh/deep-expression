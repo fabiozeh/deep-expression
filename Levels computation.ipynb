{
 "cells": [
  {
   "cell_type": "markdown",
   "metadata": {},
   "source": [
    "### Dynamics levels for entire pieces\n",
    "\n",
    "Computing dynamics levels from audio using EBUR128 and saving them to a numpy array for faster computation of metrics on the prediction models."
   ]
  },
  {
   "cell_type": "code",
   "execution_count": 2,
   "metadata": {},
   "outputs": [
    {
     "name": "stdout",
     "output_type": "stream",
     "text": [
      "processing audio 0/10\n",
      "processing audio 1/10\n",
      "processing audio 2/10\n",
      "processing audio 3/10\n",
      "processing audio 4/10\n",
      "processing audio 5/10\n",
      "processing audio 6/10\n",
      "processing audio 7/10\n",
      "processing audio 8/10\n",
      "processing audio 9/10\n"
     ]
    }
   ],
   "source": [
    "import os\n",
    "\n",
    "import numpy as np\n",
    "import essentia.standard as ess\n",
    "\n",
    "#audioDir = './data/musicnet/train_data'\n",
    "audioDir = './data/musicnet/test_data'\n",
    "\n",
    "dataset = os.listdir(audioDir)\n",
    "for i, audio_file in enumerate(dataset):\n",
    "\n",
    "        #  progress\n",
    "        print(\"processing audio \" + str(i+1) + \"/\" + str(len(dataset)))\n",
    "        \n",
    "        #  load audio\n",
    "        loader = ess.AudioLoader(filename=os.path.join(audioDir, audio_file))\n",
    "        audio, srate = loader()[0:2]\n",
    "\n",
    "        # compute loudness as a dynamics estimate\n",
    "        loudnessAlg = ess.LoudnessEBUR128(hopSize=0.1, sampleRate=srate)\n",
    "        levels = loudnessAlg(audio)[0]\n",
    "        \n",
    "        levels = (levels - np.mean(levels))/np.std(levels)\n",
    "        np.save('data/levels/'+ audio_file.replace('.wav', '_global_lvls.npy'), np.array(levels))\n"
   ]
  },
  {
   "cell_type": "code",
   "execution_count": null,
   "metadata": {},
   "outputs": [],
   "source": []
  }
 ],
 "metadata": {
  "kernelspec": {
   "display_name": "Python 3",
   "language": "python",
   "name": "python3"
  },
  "language_info": {
   "codemirror_mode": {
    "name": "ipython",
    "version": 3
   },
   "file_extension": ".py",
   "mimetype": "text/x-python",
   "name": "python",
   "nbconvert_exporter": "python",
   "pygments_lexer": "ipython3",
   "version": "3.7.2"
  }
 },
 "nbformat": 4,
 "nbformat_minor": 2
}
